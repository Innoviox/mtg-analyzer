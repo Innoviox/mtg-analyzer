{
 "cells": [
  {
   "cell_type": "code",
   "execution_count": null,
   "id": "bd74bfb4",
   "metadata": {},
   "outputs": [],
   "source": [
    "activated_abilities_df = df[df[\"type_line\"].str.contains(\"Creature\", na=False)]\n",
    "\n",
    "def extract_activated_abilities(row):\n",
    "    text = row['oracle_text']\n",
    "    \n",
    "    if text == '': \n",
    "        return [] # is just vanilla\n",
    "    \n",
    "    if text is np.nan:\n",
    "        return [] # is not valid\n",
    "    \n",
    "    text = re.sub(removes[0], '', text)\n",
    "    ret = []\n",
    "    for i in text.split(\"\\n\"):\n",
    "        if \":\" in i:\n",
    "#         if i.lower().split()[0].strip(\",;\") not in keyword_soup:\n",
    "            ret.append(i.replace(row['name'], 'CARDNAME'))\n",
    "    return ret\n",
    "    \n",
    "import collections\n",
    "count = collections.defaultdict(int)\n",
    "for i, row in activated_abilities_df.iterrows():\n",
    "    ret = extract_activated_abilities(row)\n",
    "    for j in ret:\n",
    "        count[j] += 1\n",
    "\n",
    "for k, v in count.items():\n",
    "    if v > 5:\n",
    "        print(k, v)\n"
   ]
  }
 ],
 "metadata": {
  "kernelspec": {
   "display_name": "Python 3 (ipykernel)",
   "language": "python",
   "name": "python3"
  },
  "language_info": {
   "codemirror_mode": {
    "name": "ipython",
    "version": 3
   },
   "file_extension": ".py",
   "mimetype": "text/x-python",
   "name": "python",
   "nbconvert_exporter": "python",
   "pygments_lexer": "ipython3",
   "version": "3.10.2"
  }
 },
 "nbformat": 4,
 "nbformat_minor": 5
}
