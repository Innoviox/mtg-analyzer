{
 "cells": [
  {
   "cell_type": "markdown",
   "id": "fce2d110",
   "metadata": {},
   "source": [
    "# An Analysis of Magic: The Gathering's Creatures\n",
    "Welcome to Magic: The Gathering, a trading card game produced by Wizards of the Coast where each player pretends to be a wizard casting spells and summoning creatures to reduce their opponent's life points from 20 to 0. This game has been out since 1993, and has changed dramatically since then, with the game increasing in power level and complexity over its 30 years of existence. \n",
    "\n",
    "## Vocabulary\n",
    "Throughout the analysis I will use several Magic: the Gathering specific terms. While it is not necessary to have played magic to understand this analysis, the following definition will certainly be helpful. \n",
    "\n",
    "  1. Mana: The elemental magic used to cast spells, which is generated from land cards. Each card has its own mana cost, which denotes the amount and type of mana that it requires. There are five types of mana: green (G), white (W), black (B), blue (U), and red (R), each with their own types of spells they like to cast. \"CMC\" refers to \"Converted Mana Cost\", or how much total mana it costs to cast the spell.\n",
    "  2. Set: Magic cards are released periodically in groups called \"sets\" which contain a few hundred magic cards each.\n",
    "  3. Type: Each card has a different type; for the purpose of this analysis, we will be focusing on creatures.\n",
    "  4. Creature: Creatures represent minions you can summon to help you fight your opponent. Each creature has a mana cost, a power (its strength), a toughness (its health), a few types (like Human, Elf, Dragon, etc.), and its abilities. A creature with power X and toughness Y is called as \"an X/Y creature\".\n",
    "  5. Keyword: Some abilities of creatures are common enough across sets that they get their own keyword. This is just an easy way for players to denote some abilities.\n",
    "  6. Ability: Most creatures (not all!) have abilities that can be activated or are always in effect. Some creatures have no abilities, which are called vanilla creatures; some creatures only have keyworded abilities, which are called \"french vanilla\" creatures."
   ]
  },
  {
   "cell_type": "markdown",
   "id": "fb8d8945",
   "metadata": {},
   "source": [
    "Here we import all necessary modules for the project."
   ]
  },
  {
   "cell_type": "code",
   "execution_count": 1,
   "id": "69b9931e",
   "metadata": {},
   "outputs": [],
   "source": [
    "import pandas as pd\n",
    "import json\n",
    "import requests\n",
    "import matplotlib.pyplot as plt\n",
    "import re\n",
    "import numpy as np\n",
    "import datetime as dt\n",
    "from sklearn.linear_model import LinearRegression"
   ]
  },
  {
   "cell_type": "markdown",
   "id": "12eb61f6",
   "metadata": {},
   "source": [
    "## Data Cleaning"
   ]
  },
  {
   "cell_type": "markdown",
   "id": "35b2c959",
   "metadata": {},
   "source": [
    "The data we will use is from [scryfall](https://scryfall.com/), a community-ran magic the gathering site. Scryfall's data is often more reliable and accurate than the data that Wizards produces, and it is also freely available for download through their API. This data contains every single card in Magic's history that was printed in English - 78,242 card objects. However, many of these objects are extraneous and would hurt our data analysis. For the next section, I will prune down these cards to exclude reprinted cards, illegal cards, joke cards, and many other types of cards that have been created over the years."
   ]
  },
  {
   "cell_type": "code",
   "execution_count": null,
   "id": "718efd39",
   "metadata": {},
   "outputs": [],
   "source": [
    "URL = \"https://data.scryfall.io/default-cards/default-cards-20221212220657.json\"\n",
    "full_scryfall_df = pd.DataFrame(json.loads(requests.get(URL).text))\n",
    "full_scryfall_df.head()"
   ]
  },
  {
   "cell_type": "markdown",
   "id": "88c729cf",
   "metadata": {},
   "source": [
    "This dataframe also comes with 84 columns, many of which we do not need. I will remove all columns except for the useful ones in determining a card's qualities, and in determining whether we want to analyze the card or not."
   ]
  },
  {
   "cell_type": "code",
   "execution_count": null,
   "id": "d7f61eca",
   "metadata": {},
   "outputs": [],
   "source": [
    "df = full_scryfall_df[['name',                       # the name of the card - not technically necessary but helpful for debugging\n",
    "                       'mana_cost',                  # what type of mana the card costs to summon\n",
    "                       'cmc',                        # how much mana the card costs\n",
    "                       'type_line',                  # the type of the card (creature, sorcery, etc)\n",
    "                       'oracle_text',                # what the card does\n",
    "                       'power', 'toughness',         # the strength of the card if it's a creature\n",
    "                       'colors', 'color_identity',   # more info on what type of mana the card costs\n",
    "                       'keywords',                   # the keywords on the card (more on this later)\n",
    "                       'set', 'released_at',         # when the card was released\n",
    "                       'rarity',                     # how much the card was printed\n",
    "                       'games',                      # games tells if it is legal online or in paper (we exclude online-only cards)\n",
    "                       'legalities']]                # which formats the card is legal in"
   ]
  },
  {
   "cell_type": "markdown",
   "id": "ac4a5307",
   "metadata": {},
   "source": [
    "First, we will remove all cards that are in there multiple times (e.g. they were printed in multiple sets). Wizards does this sometimes to bring back fan favorite cards or to have some basic cards that always work well. "
   ]
  },
  {
   "cell_type": "code",
   "execution_count": null,
   "id": "0885f170",
   "metadata": {},
   "outputs": [],
   "source": [
    "df = df.sort_values(by=['released_at', 'name'])\n",
    "df = df.drop_duplicates(subset=['name'])"
   ]
  },
  {
   "cell_type": "markdown",
   "id": "c8935fb3",
   "metadata": {},
   "source": [
    "Next, we will remove online-only cards. Wizards of the Coast released a program called Magic Arena, and to promote it they released cards that were only legal for that program. However, these cards were not created with the balance of the paper format in mind, and reference random effects and things only possible online. Therefore, I am excluding them from this analysis."
   ]
  },
  {
   "cell_type": "code",
   "execution_count": null,
   "id": "93f23996",
   "metadata": {},
   "outputs": [],
   "source": [
    "df = df[df['games'].apply(lambda i: 'paper' in i)]"
   ]
  },
  {
   "cell_type": "markdown",
   "id": "a007aea5",
   "metadata": {},
   "source": [
    "Some cards are illegal to play for power-level reasons (too strong for the format); however, we can still analyze these. The \"not legal\" designation means cards that are literally unplayable: they are printed alongside magic cards, but just say promotional text or act as other game pieces. Tokens are one such piece; some cards create tokens, but you can't put the actual token cards in your deck. However, Scryfall treats all of these as \"card objects\" and puts them in."
   ]
  },
  {
   "cell_type": "code",
   "execution_count": null,
   "id": "a0bc4cc4",
   "metadata": {},
   "outputs": [],
   "source": [
    "def legal(legalities):\n",
    "    v = legalities.values()\n",
    "    if len(set(v)) == 1 and \"not_legal\" in v:\n",
    "        return False\n",
    "    return True\n",
    "\n",
    "df = df[df['legalities'].apply(legal)]\n",
    "df = df[~df[\"type_line\"].str.contains(\"Token\", na=False)] # remove tokens"
   ]
  },
  {
   "cell_type": "markdown",
   "id": "18820f2c",
   "metadata": {},
   "source": [
    "Finally, some cards were designed as jokes by the Wizards designers in sets called \"unsets\". These cards, like the online cards, aren't tuned for interacting with any other cards, and so I will exclude them from this dataset."
   ]
  },
  {
   "cell_type": "code",
   "execution_count": null,
   "id": "d683f15e",
   "metadata": {},
   "outputs": [],
   "source": [
    "unsets = ['unglued', 'unhinged', 'unstable', 'unsanctioned', 'unfinity']\n",
    "sets = json.loads(requests.get(\"https://api.scryfall.com/sets\").text)\n",
    "for s in sets[\"data\"]:\n",
    "    if s['name'].lower() in unsets:\n",
    "        df = df[~df[\"set\"].str.contains(s['code'])]"
   ]
  },
  {
   "cell_type": "markdown",
   "id": "0eb7a115",
   "metadata": {},
   "source": [
    "## Data Processing"
   ]
  },
  {
   "cell_type": "markdown",
   "id": "e98f5f42",
   "metadata": {},
   "source": [
    "Some of these columns aren't qute in the format we'd like them to be in, so I'm going to change them to be friendlier to numerical algorithms, and add some useful columns. \n",
    "\n",
    "The actual release date isn't particularly mathematically helpful, so I will change it to the number of years since the first set (known as Alpha) was released, on August 5th 1993. "
   ]
  },
  {
   "cell_type": "code",
   "execution_count": null,
   "id": "3004eb9f",
   "metadata": {},
   "outputs": [],
   "source": [
    "alpha_release_date = dt.datetime(1993, 8, 5)\n",
    "df['released_at'] = df['released_at'].apply(lambda i: (dt.datetime.strptime(i, '%Y-%m-%d').year - alpha_release_date.year))"
   ]
  },
  {
   "cell_type": "markdown",
   "id": "a03b1c1e",
   "metadata": {},
   "source": [
    "One helpful factor in our analysis will show how deep into a color a card is. Wizards often makes cards cost more mana of a certain color if they want to nerf the card somewhat; e.g. if they want to make a more powerful creature at the same mana cost. So, counting the amount of colored mana required to cast the spell will be a useful factor in the analysis. A similar factor is the number of different colors: a spell that requires multiple types of mana is considered more difficult to cast, and so may have a lower mana cost."
   ]
  },
  {
   "cell_type": "code",
   "execution_count": null,
   "id": "094c3d1e",
   "metadata": {},
   "outputs": [],
   "source": [
    "df[\"num_colored_pips\"] = df[\"mana_cost\"].apply(lambda mana_cost: len(re.findall(\"\\{[^\\d]\\}\", str(mana_cost))))\n",
    "df[\"num_colors\"] = df[\"colors\"].apply(len)"
   ]
  },
  {
   "cell_type": "markdown",
   "id": "78d710a7",
   "metadata": {},
   "source": [
    "Finally, for this analysis we will just be looking at creatures. Let's also make those CMC, power, and toughness values integers to be easier to work with. If they aren't underlylingly integers (some have X, \\*, or ?, or nothing), we wil ignore those as they are difficult to work with without also parsing the ability text."
   ]
  },
  {
   "cell_type": "code",
   "execution_count": null,
   "id": "489014a4",
   "metadata": {},
   "outputs": [],
   "source": [
    "df = df[df[\"type_line\"].str.contains(\"Creature\", na=False)]\n",
    "\n",
    "def make_int(i):\n",
    "    try:\n",
    "        return int(i)\n",
    "    except ValueError:\n",
    "        return np.nan\n",
    "\n",
    "df = df.dropna()\n",
    "for i in ['cmc', 'power', 'toughness']:\n",
    "    df[i] = df[i].apply(make_int)\n",
    "df = df.dropna()"
   ]
  },
  {
   "cell_type": "markdown",
   "id": "a6b31e3b",
   "metadata": {},
   "source": [
    "Let's take a look!"
   ]
  },
  {
   "cell_type": "code",
   "execution_count": null,
   "id": "ba1ef120",
   "metadata": {},
   "outputs": [],
   "source": [
    "df.head()"
   ]
  },
  {
   "cell_type": "markdown",
   "id": "4ca961c5",
   "metadata": {},
   "source": [
    "As you can see, we've now got the important parts of a card, and the cards are sorted conveniently by their release date. We are now looking at the first magic cards ever released. How strong were they? Let's find out!"
   ]
  },
  {
   "cell_type": "markdown",
   "id": "e4b11b47",
   "metadata": {},
   "source": [
    "## Vanilla Creature Analysis\n",
    "A vanilla creature is a creature with no text whatsoever - just stats! The \"classic\" vanilla creature is the Grizzly Bears, a 2/2 for 2 mana in green."
   ]
  },
  {
   "cell_type": "code",
   "execution_count": null,
   "id": "59a7e7c4",
   "metadata": {},
   "outputs": [],
   "source": [
    "df[df[\"name\"].str.contains(\"Grizzly Bears\")]"
   ]
  },
  {
   "cell_type": "markdown",
   "id": "469625b6",
   "metadata": {},
   "source": [
    "However, not all creatures are created equally. For example, the Coral Eel has the same mana cost, but only 1 toughness. The difference? It's in blue!"
   ]
  },
  {
   "cell_type": "code",
   "execution_count": null,
   "id": "cded5d22",
   "metadata": {},
   "outputs": [],
   "source": [
    "df[df[\"name\"].str.contains(\"Coral Eel\")]"
   ]
  },
  {
   "cell_type": "markdown",
   "id": "dab3bac7",
   "metadata": {},
   "source": [
    "Clearly, some colors are better at producing creatures than other colors. But how much better? Let's start with vanilla creatures, since we know none of their abilities is influencing their mana cost. Therefore, we can just get a look at how much each point of power and toughness is costing, mana-wise."
   ]
  },
  {
   "cell_type": "code",
   "execution_count": null,
   "id": "ecdc2574",
   "metadata": {},
   "outputs": [],
   "source": [
    "vanilla_df = df[df[\"oracle_text\"] == \"\"]\n",
    "vanilla_df.head()"
   ]
  },
  {
   "cell_type": "markdown",
   "id": "445be828",
   "metadata": {},
   "source": [
    "Only 2.57% of creatures ever printed have been vanilla, so this analysis won't tell us much about a lot of creatures. However, it gives us a base from which to peform similar analyses on more complicated creatures."
   ]
  },
  {
   "cell_type": "code",
   "execution_count": null,
   "id": "d1974549",
   "metadata": {},
   "outputs": [],
   "source": [
    "len(vanilla_df.index) / len(df.index)"
   ]
  },
  {
   "cell_type": "markdown",
   "id": "12767b5e",
   "metadata": {},
   "source": [
    "Now we can look at plots of mana cost, power, and toughness. We can see from this plot that the vast majority of vanilla creatures are very small, with less than 4 power and toughness. Generally, when a creature has larger power and toughness, it is a more powerful creature in the Magic storyline, and the designers want to make the card more exciting. So, they give it abilities, which means it doesn't show up in this plot."
   ]
  },
  {
   "cell_type": "code",
   "execution_count": null,
   "id": "12bf0fa8",
   "metadata": {},
   "outputs": [],
   "source": [
    "mp, mt = max(vanilla_df['power']) + 1, max(vanilla_df['toughness']) + 1\n",
    "data = np.zeros((mp, mt))\n",
    "\n",
    "fig, ax = plt.subplots()\n",
    "\n",
    "for power in range(mp):\n",
    "    for toughness in range(mt):\n",
    "        count = len(vanilla_df[(vanilla_df['power'] == power) & (vanilla_df['toughness'] == toughness)]['cmc'].values)\n",
    "        data[mp - power - 1][toughness] = count\n",
    "        \n",
    "        text = ax.text(toughness, mp - power - 1, count,\n",
    "                       ha=\"center\", va=\"center\", color=\"w\")\n",
    "\n",
    "ax.set_yticks(np.arange(mp), labels=list(range(mp))[::-1]) # invert power so that 0/0 is the bottom left corner\n",
    "\n",
    "im = ax.imshow(data)\n",
    "fig.tight_layout()\n",
    "plt.show()"
   ]
  },
  {
   "cell_type": "markdown",
   "id": "fcbbb7fd",
   "metadata": {},
   "source": [
    "Now let's try to predict the mana cost of the creature based on the data we have. First, let's drop all unnecessary data and get just the good stuff into a `data_df`. This will contain all the variables with which we will predict Converted Mana Cost.\n",
    "\n",
    "Our goal is to predict the Converted Mana Cost of a creature based just on its vanilla stats. These stats include its power, toughness, color, rarity, release date, number of colored pips, and number of colors. My predictions are as follows:\n",
    "\n",
    " 1. A point of power will cost more than a point of toughness, as there are many cheap creatures such as Walls which are good at defending but poor at attacking.\n",
    " 2. The color will have some influence; Green creatures will be the cheapest, and probably Blue creatures will incur some mana cost penalty, but I'm not sure where the other colors will be in between.\n",
    " 3. Rarity will have a large influence, especially on vanilla creatures; rare vanilla creatures will be much less expensive than common ones. \n",
    " 4. Release date will have some influence, as newer cards are generally considered more powerful than older cards.\n",
    " 5. Number of colored pips and number of colors may not matter much for vanilla creatures as most vanilla creatures are one color and very low colored pips. However, they might come up with a bigger effect in later analyses."
   ]
  },
  {
   "cell_type": "code",
   "execution_count": null,
   "id": "3b9ae8b2",
   "metadata": {},
   "outputs": [],
   "source": [
    "data_df = vanilla_df.drop(columns=[\"name\", \"mana_cost\", \"type_line\", \"oracle_text\", \"color_identity\", \"keywords\", \"set\", \"games\", \"legalities\"])\n",
    "data_df.head()"
   ]
  },
  {
   "cell_type": "code",
   "execution_count": null,
   "id": "9f4eb6f8",
   "metadata": {},
   "outputs": [],
   "source": [
    "def dummy_list(data_df, one_hot_df, column):\n",
    "    x = set(data_df.explode(column)[column].values)\n",
    "    if np.nan in x:\n",
    "        x.remove(np.nan)\n",
    "    \n",
    "    for i in x:\n",
    "        one_hot_df[f'{column}_{i}'] = data_df[column].apply(lambda j: j.count(i))\n",
    "\n",
    "one_hot_df = data_df.drop(columns=['colors', 'rarity'])\n",
    "dummy_list(data_df, one_hot_df, 'colors')\n",
    "dummy_list(data_df, one_hot_df, 'rarity')\n",
    "one_hot_df = one_hot_df.drop(columns=['rarity_common']) # only need rarity columns for higher rarities\n",
    "one_hot_df.head()"
   ]
  },
  {
   "cell_type": "code",
   "execution_count": null,
   "id": "be6095fc",
   "metadata": {},
   "outputs": [],
   "source": [
    "X = one_hot_df.drop(columns=['cmc'])\n",
    "y = one_hot_df['cmc']\n",
    "\n",
    "# make new linear regression\n",
    "reg2 = LinearRegression().fit(X, y)\n",
    "\n",
    "# print all coefficients\n",
    "for name, coef in zip(X.columns, reg2.coef_):\n",
    "    print(f\"{name} Coefficient: {coef}\")\n",
    "print(\"Intercept:\", reg2.intercept_)"
   ]
  },
  {
   "cell_type": "code",
   "execution_count": null,
   "id": "7c4d96e5",
   "metadata": {},
   "outputs": [],
   "source": [
    "x = set()\n",
    "for i, row in df.iterrows():\n",
    "    if row['set'] not in ['afr', '40k', 'clb', 'sld']:\n",
    "        x = x.union(row['keywords'])\n",
    "    else:\n",
    "        # ignore multimodal keywords\n",
    "        x = x.union([i for i in row['keywords'] if ' ' not in i])\n",
    "keyword_soup = ' '.join(x).lower()\n",
    "print(keyword_soup)"
   ]
  },
  {
   "cell_type": "code",
   "execution_count": null,
   "id": "4bbd0b05",
   "metadata": {},
   "outputs": [],
   "source": [
    "removes = [r'\\(.*?\\)', r'\\{.*?\\}', r'—[^ ][^\\n]*', r'(P|p)rotection(?! F)[^\\n]*', r'\\d*', r'Prototype[^\\n]*']\n",
    "#r'—[^{][^T][^\\n]*', \n",
    "# todo protection, ward, a lot of stuff actually\n",
    "\n",
    "def extract_ability_text(row):\n",
    "    text = row['oracle_text']\n",
    "\n",
    "    if text is np.nan:\n",
    "        return ''\n",
    "    \n",
    "    for r in removes:\n",
    "        text = re.sub(r, '', text)\n",
    "    text = text.replace(',', '').replace(';', '')\n",
    "    text = text.lower()\n",
    "    text = text.strip()\n",
    "\n",
    "    return text\n",
    "\n",
    "def is_french_vanilla(row):\n",
    "    text = row['oracle_text']\n",
    "    \n",
    "    if text == '': \n",
    "        return True # is just vanilla\n",
    "    \n",
    "    if text is np.nan:\n",
    "        return False # is not valid\n",
    "    \n",
    "    text = extract_ability_text(row)\n",
    "\n",
    "    for i in text.split():\n",
    "        if i not in keyword_soup:\n",
    "            return False\n",
    "\n",
    "    return True\n",
    "\n",
    "french_vanilla_df = df[df[\"type_line\"].str.contains(\"Creature\", na=False)] # for now just creatures\n",
    "french_vanilla_df = french_vanilla_df.sort_values(by=['name'])\n",
    "french_vanilla_df['is_french_vanilla'] = french_vanilla_df.apply(is_french_vanilla, axis=1)\n",
    "french_vanilla_df = french_vanilla_df[french_vanilla_df['is_french_vanilla']]\n",
    "\n",
    "french_vanilla_df = french_vanilla_df.sort_values(by=['name'])\n",
    "\n",
    "french_vanilla_df\n"
   ]
  },
  {
   "cell_type": "code",
   "execution_count": null,
   "id": "3aec1451",
   "metadata": {},
   "outputs": [],
   "source": [
    "french_vanilla_df[french_vanilla_df['rarity'] == 'mythic']"
   ]
  },
  {
   "cell_type": "code",
   "execution_count": null,
   "id": "b6c974b1",
   "metadata": {},
   "outputs": [],
   "source": [
    "# todo organize code\n",
    "\n",
    "# ignore type line for now\n",
    "data_df = french_vanilla_df.drop(columns=['name', 'mana_cost', 'type_line', 'oracle_text', 'color_identity', 'set', 'is_french_vanilla', 'games', 'legalities'])\n",
    "data_df['cmc'] = data_df['cmc'].apply(int)\n",
    "data_df['power'] = data_df['power'].apply(int)\n",
    "data_df['toughness'] = data_df['toughness'].apply(int)\n",
    "data_df\n"
   ]
  },
  {
   "cell_type": "code",
   "execution_count": null,
   "id": "77d82520",
   "metadata": {},
   "outputs": [],
   "source": [
    "def dummy_list(data_df, one_hot_df, column):\n",
    "    x = set(data_df.explode(column)[column].values)\n",
    "    x.remove(np.nan)\n",
    "    \n",
    "    for i in x:\n",
    "        one_hot_df[f'{column}_{i}'] = data_df[column].apply(lambda j: j.count(i))\n",
    "    \n",
    "\n",
    "one_hot_df = pd.get_dummies(data_df.drop(columns=['colors', 'keywords']))\n",
    "dummy_list(data_df, one_hot_df, 'colors')\n",
    "dummy_list(data_df, one_hot_df, 'keywords')\n",
    "one_hot_df"
   ]
  },
  {
   "cell_type": "code",
   "execution_count": null,
   "id": "92093e22",
   "metadata": {},
   "outputs": [],
   "source": [
    "# make new dummy matrices for interaction terms\n",
    "X = one_hot_df.drop(columns=['cmc', 'rarity_common'])\n",
    "y = one_hot_df['cmc']\n",
    "\n",
    "# make new linear regression\n",
    "reg2 = LinearRegression().fit(X, y)\n",
    "\n",
    "# print all coefficients\n",
    "for name, coef in zip(X.columns, reg2.coef_):\n",
    "    print(f\"{name} Coefficient: {coef}\")\n",
    "print(\"Intercept:\", reg2.intercept_)\n"
   ]
  },
  {
   "cell_type": "code",
   "execution_count": null,
   "id": "0bd02406",
   "metadata": {},
   "outputs": [],
   "source": [
    "activated_abilities_df = df[df[\"type_line\"].str.contains(\"Creature\", na=False)]\n",
    "\n",
    "def extract_activated_abilities(row):\n",
    "    text = row['oracle_text']\n",
    "    \n",
    "    if text == '': \n",
    "        return [] # is just vanilla\n",
    "    \n",
    "    if text is np.nan:\n",
    "        return [] # is not valid\n",
    "    \n",
    "    text = re.sub(removes[0], '', text)\n",
    "    ret = []\n",
    "    for i in text.split(\"\\n\"):\n",
    "        if \":\" in i:\n",
    "#         if i.lower().split()[0].strip(\",;\") not in keyword_soup:\n",
    "            ret.append(i.replace(row['name'], 'CARDNAME'))\n",
    "    return ret\n",
    "    \n",
    "import collections\n",
    "count = collections.defaultdict(int)\n",
    "for i, row in activated_abilities_df.iterrows():\n",
    "    ret = extract_activated_abilities(row)\n",
    "    for j in ret:\n",
    "        count[j] += 1\n",
    "\n",
    "for k, v in count.items():\n",
    "    if v > 5:\n",
    "        print(k, v)\n"
   ]
  }
 ],
 "metadata": {
  "kernelspec": {
   "display_name": "Python 3 (ipykernel)",
   "language": "python",
   "name": "python3"
  },
  "language_info": {
   "codemirror_mode": {
    "name": "ipython",
    "version": 3
   },
   "file_extension": ".py",
   "mimetype": "text/x-python",
   "name": "python",
   "nbconvert_exporter": "python",
   "pygments_lexer": "ipython3",
   "version": "3.10.2"
  }
 },
 "nbformat": 4,
 "nbformat_minor": 5
}
